{
 "cells": [
  {
   "cell_type": "markdown",
   "id": "81df76ce",
   "metadata": {},
   "source": [
    "# 프로젝트 : 가위바위보 분류기를 만들자"
   ]
  },
  {
   "cell_type": "markdown",
   "id": "50d2b2b8",
   "metadata": {},
   "source": [
    "오늘 배운 내용을 바탕으로 가위바위보 분류기를 만들도록 하겠습니다. 가장 먼저 해야 할 일은 뭘까요? 네, 첫 번째!!!! 데이터를 준비해야 합니다. 가위바위보 이미지를 모아 놓은 곳은 없으므로, 우리가 직접 사진을 찍어서 모아봅시다."
   ]
  },
  {
   "cell_type": "markdown",
   "id": "73a95f3b",
   "metadata": {},
   "source": [
    "<br>"
   ]
  },
  {
   "cell_type": "markdown",
   "id": "a46a38e1",
   "metadata": {},
   "source": [
    "### 라이브러리 버전을 확인해 봅니다\n",
    "\n",
    "사용할 라이브러리 버전을 둘러봅시다."
   ]
  },
  {
   "cell_type": "code",
   "execution_count": 1,
   "id": "e443c28b",
   "metadata": {},
   "outputs": [
    {
     "name": "stdout",
     "output_type": "stream",
     "text": [
      "2.6.0\n",
      "1.21.4\n"
     ]
    }
   ],
   "source": [
    "import tensorflow as tf\n",
    "import numpy as np\n",
    "import matplotlib.pyplot as plt\n",
    "\n",
    "print(tf.__version__)\n",
    "print(np.__version__)"
   ]
  },
  {
   "cell_type": "code",
   "execution_count": 2,
   "id": "2cf2145e",
   "metadata": {},
   "outputs": [
    {
     "name": "stdout",
     "output_type": "stream",
     "text": [
      "--2022-11-04 02:06:45--  https://storage.googleapis.com/laurencemoroney-blog.appspot.com/rps.zip\n",
      "Resolving storage.googleapis.com (storage.googleapis.com)... 74.125.195.128, 142.250.99.128, 74.125.20.128, ...\n",
      "Connecting to storage.googleapis.com (storage.googleapis.com)|74.125.195.128|:443... connected.\n",
      "HTTP request sent, awaiting response... 200 OK\n",
      "Length: 200682221 (191M) [application/zip]\n",
      "Saving to: ‘rps.zip’\n",
      "\n",
      "rps.zip             100%[===================>] 191.38M  46.0MB/s    in 5.0s    \n",
      "\n",
      "2022-11-04 02:06:50 (38.5 MB/s) - ‘rps.zip’ saved [200682221/200682221]\n",
      "\n",
      "--2022-11-04 02:06:51--  https://storage.googleapis.com/laurencemoroney-blog.appspot.com/rps-test-set.zip\n",
      "Resolving storage.googleapis.com (storage.googleapis.com)... 142.250.107.128, 173.194.202.128, 173.194.203.128, ...\n",
      "Connecting to storage.googleapis.com (storage.googleapis.com)|142.250.107.128|:443... connected.\n",
      "HTTP request sent, awaiting response... 200 OK\n",
      "Length: 29516758 (28M) [application/zip]\n",
      "Saving to: ‘rps-test-set.zip’\n",
      "\n",
      "rps-test-set.zip    100%[===================>]  28.15M   127MB/s    in 0.2s    \n",
      "\n",
      "2022-11-04 02:06:51 (127 MB/s) - ‘rps-test-set.zip’ saved [29516758/29516758]\n",
      "\n"
     ]
    }
   ],
   "source": [
    "# https://laurencemoroney.com/datasets.html\n",
    "# Rock Paper Scissors Dataset\n",
    "\n",
    "# training set\n",
    "!wget https://storage.googleapis.com/laurencemoroney-blog.appspot.com/rps.zip\n",
    "\n",
    "# validation set\n",
    "#!wget https://storage.googleapis.com/laurencemoroney-blog.appspot.com/rps-validation.zip\n",
    "\n",
    "# test set\n",
    "!wget https://storage.googleapis.com/laurencemoroney-blog.appspot.com/rps-test-set.zip"
   ]
  },
  {
   "cell_type": "code",
   "execution_count": 3,
   "id": "4ebfd462",
   "metadata": {},
   "outputs": [],
   "source": [
    "from zipfile import ZipFile\n",
    "\n",
    "# zipfile 모듈의 ZipFile 클래스를 사용하면 zip 파일을 풀 수 있음.\n",
    "# ZipFile()의 파라미터로 zip 파일 경로를 전달함.\n",
    "# with문으로 할당한 zipper 객체에 extractall() 메서드 호출시 zip 파일의 압축을 품.\n",
    "\n",
    "# 훈련 이미지 데이터 압축 풀기\n",
    "with ZipFile('/aiffel/aiffel/Exploration-5/rps.zip') as zipper:\n",
    "    zipper.extractall()\n",
    "\n",
    "# 테스트 이미지 데이터 압축 풀기\n",
    "with ZipFile('/aiffel/aiffel/Exploration-5/rps-test-set.zip') as zipper:\n",
    "    zipper.extractall()"
   ]
  },
  {
   "cell_type": "markdown",
   "id": "1f877de6",
   "metadata": {},
   "source": [
    "<br>"
   ]
  },
  {
   "cell_type": "markdown",
   "id": "12742cc5",
   "metadata": {},
   "source": [
    "### 데이터 불러오기 + Resize 하기\n",
    "\n",
    "숫자 손글씨의 경우 이미지 크기가 28x28 이었지만, 이번에는 가위, 바위, 보 이미지는 128x128로 만들겠습니다. 이를 위해서는 PIL 라이브러리를 사용해볼 거예요. 그러려면 먼저 라이브러리를 불러와야 겠죠?"
   ]
  },
  {
   "cell_type": "code",
   "execution_count": 4,
   "id": "af3ffe1f",
   "metadata": {},
   "outputs": [
    {
     "name": "stdout",
     "output_type": "stream",
     "text": [
      "PIL 라이브러리 import 완료!\n"
     ]
    }
   ],
   "source": [
    "from PIL import Image\n",
    "import glob\n",
    "import os\n",
    "\n",
    "print(\"PIL 라이브러리 import 완료!\")"
   ]
  },
  {
   "cell_type": "markdown",
   "id": "3e927e77",
   "metadata": {},
   "source": [
    "이제 가위 이미지를 불러와서 128x128 사이즈로 변경할 겁니다. 아래 코드를 실행해보세요. 이미지의 크기가 128x128 로 바뀌었나요?"
   ]
  },
  {
   "cell_type": "code",
   "execution_count": 5,
   "id": "deb45d32",
   "metadata": {},
   "outputs": [],
   "source": [
    "def resize_images(img_path):\n",
    "    images=glob.glob(img_path + \"/*.png\")  \n",
    "    \n",
    "    print(len(images), \" images to be resized.\")\n",
    "\n",
    "    # 파일마다 모두 128x128 사이즈로 바꾸어 저장합니다.\n",
    "    target_size=(128,128)\n",
    "    for img in images:\n",
    "        old_img=Image.open(img).convert('RGB')\n",
    "        new_img=old_img.resize(target_size,Image.ANTIALIAS)\n",
    "        new_img.save(img)\n",
    "    \n",
    "    print(len(images), \" images resized.\")"
   ]
  },
  {
   "cell_type": "code",
   "execution_count": 6,
   "id": "95cb8724",
   "metadata": {},
   "outputs": [
    {
     "name": "stdout",
     "output_type": "stream",
     "text": [
      "840  images to be resized.\n",
      "840  images resized.\n",
      "Scissor image 128 x 128 resized is done.!\n",
      "\n",
      "840  images to be resized.\n",
      "840  images resized.\n",
      "Rock image 128 x 128 resized is done.!\n",
      "\n",
      "840  images to be resized.\n",
      "840  images resized.\n",
      "Paper image 128 x 128 resized is done.!\n",
      "\n"
     ]
    }
   ],
   "source": [
    "# Training Set\n",
    "# 가위 이미지가 저장된 디렉토리 아래의 모든 jpg 파일을 읽어들여서 변환\n",
    "image_dir_path = os.getenv(\"HOME\") + \"/aiffel/Exploration-5/rps/scissors\"\n",
    "resize_images(image_dir_path)\n",
    "\n",
    "print(\"Scissor image 128 x 128 resized is done.!\\n\")\n",
    "\n",
    "# 바위 이미지가 저장된 디렉토리 아래의 모든 jpg 파일을 읽어들여서 변환\n",
    "image_dir_path = os.getenv(\"HOME\") + \"/aiffel/Exploration-5/rps/rock\"\n",
    "resize_images(image_dir_path)\n",
    "\n",
    "print(\"Rock image 128 x 128 resized is done.!\\n\")\n",
    "\n",
    "# 보 이미지가 저장된 디렉토리 아래의 모든 jpg 파일을 읽어들여서 변환\n",
    "image_dir_path = os.getenv(\"HOME\") + \"/aiffel/Exploration-5/rps/paper\"\n",
    "resize_images(image_dir_path)\n",
    "\n",
    "print(\"Paper image 128 x 128 resized is done.!\\n\")"
   ]
  },
  {
   "cell_type": "code",
   "execution_count": 7,
   "id": "2c4e31fa",
   "metadata": {},
   "outputs": [
    {
     "name": "stdout",
     "output_type": "stream",
     "text": [
      "124  images to be resized.\n",
      "124  images resized.\n",
      "Scissor image 128 x 128 resized is done.!\n",
      "\n",
      "124  images to be resized.\n",
      "124  images resized.\n",
      "Rock image 128 x 128 resized is done.!\n",
      "\n",
      "124  images to be resized.\n",
      "124  images resized.\n",
      "Paper image 128 x 128 resized is done.!\n",
      "\n"
     ]
    }
   ],
   "source": [
    "# Test Set\n",
    "# 가위 이미지가 저장된 디렉토리 아래의 모든 jpg 파일을 읽어들여서 변환\n",
    "image_dir_path = os.getenv(\"HOME\") + \"/aiffel/Exploration-5/rps-test-set/scissors\"\n",
    "resize_images(image_dir_path)\n",
    "\n",
    "print(\"Scissor image 128 x 128 resized is done.!\\n\")\n",
    "\n",
    "# 바위 이미지가 저장된 디렉토리 아래의 모든 jpg 파일을 읽어들여서 변환\n",
    "image_dir_path = os.getenv(\"HOME\") + \"/aiffel/Exploration-5/rps-test-set/rock\"\n",
    "resize_images(image_dir_path)\n",
    "\n",
    "print(\"Rock image 128 x 128 resized is done.!\\n\")\n",
    "\n",
    "# 보 이미지가 저장된 디렉토리 아래의 모든 jpg 파일을 읽어들여서 변환\n",
    "image_dir_path = os.getenv(\"HOME\") + \"/aiffel/Exploration-5/rps-test-set/paper\"\n",
    "resize_images(image_dir_path)\n",
    "\n",
    "print(\"Paper image 128 x 128 resized is done.!\\n\")"
   ]
  },
  {
   "cell_type": "markdown",
   "id": "d2520a5f",
   "metadata": {},
   "source": [
    "숫자 손글씨 인식기는 mnist.load_data() 라는 함수로 데이터를 읽었던 것 기억하시죠? 여러분들이 아직 코딩에 익숙하지 않을 수 있으므로, 가위, 바위, 보 데이터를 읽을 수 있는 load_data() 함수를 만들어 드릴 거예요. 이 코드를 활용하면 임의의 사진 데이터(ex. 귤이 잘 익었나, 안 익었나? 웃는 얼굴인가, 우는 얼굴인가, 평범한 표정의 얼굴인가? 등)에 적용하실 수 있을 겁니다.\n",
    "\n",
    "load_data() 함수는 입력으로 이미지가 있는 폴더 위치를 받습니다. 여기서는 rock_scissor_paper 폴더 위치를 적어주면 됩니다. 숫자 손글씨는 0~9 까지의 클래스가 있었던 것 기억하시죠? 가위바위보의 경우 3개의 클래스 즉, **가위: 0, 바위: 1, 보: 2** 로 라벨링이 될 것입니다."
   ]
  },
  {
   "cell_type": "code",
   "execution_count": 8,
   "id": "843cabdf",
   "metadata": {},
   "outputs": [],
   "source": [
    "import numpy as np\n",
    "\n",
    "def load_data(img_path, number_of_data=840*3):  # 가위바위보 이미지 개수 총합에 주의하세요.\n",
    "    # 가위 : 0, 바위 : 1, 보 : 2\n",
    "    img_size=128\n",
    "    color=3\n",
    "    \n",
    "    #이미지 데이터와 라벨(가위 : 0, 바위 : 1, 보 : 2) 데이터를 담을 행렬(matrix) 영역을 생성합니다.\n",
    "    imgs=np.zeros(number_of_data*img_size*img_size*color,dtype=np.int32).reshape(number_of_data,img_size,img_size,color)\n",
    "    labels=np.zeros(number_of_data,dtype=np.int32)\n",
    "\n",
    "    idx=0\n",
    "    for file in glob.iglob(img_path+'/scissors/*.png'):\n",
    "        img = np.array(Image.open(file),dtype=np.int32)\n",
    "        imgs[idx,:,:,:]=img    # 데이터 영역에 이미지 행렬을 복사\n",
    "        labels[idx]=0   # 가위 : 0\n",
    "        idx=idx+1\n",
    "\n",
    "    for file in glob.iglob(img_path+'/rock/*.png'):\n",
    "        img = np.array(Image.open(file),dtype=np.int32)\n",
    "        imgs[idx,:,:,:]=img    # 데이터 영역에 이미지 행렬을 복사\n",
    "        labels[idx]=1   # 바위 : 1\n",
    "        idx=idx+1  \n",
    "    \n",
    "    for file in glob.iglob(img_path+'/paper/*.png'):\n",
    "        img = np.array(Image.open(file),dtype=np.int32)\n",
    "        imgs[idx,:,:,:]=img    # 데이터 영역에 이미지 행렬을 복사\n",
    "        labels[idx]=2   # 보 : 2\n",
    "        idx=idx+1\n",
    "        \n",
    "    print(\"학습데이터(x_train)의 이미지 개수는\", idx,\"입니다.\")\n",
    "    return imgs, labels"
   ]
  },
  {
   "cell_type": "code",
   "execution_count": 9,
   "id": "2d15abd9",
   "metadata": {},
   "outputs": [
    {
     "name": "stdout",
     "output_type": "stream",
     "text": [
      "학습데이터(x_train)의 이미지 개수는 2520 입니다.\n",
      "x_train shape: (1764, 128, 128, 3)\n",
      "x_val shape: (756, 128, 128, 3)\n",
      "y_train shape: (1764,)\n",
      "y_val shape: (756,)\n"
     ]
    }
   ],
   "source": [
    "from sklearn.model_selection import train_test_split\n",
    "\n",
    "image_dir_path = os.getenv(\"HOME\") + \"/aiffel/Exploration-5/rps\"\n",
    "(x_train, y_train)=load_data(image_dir_path)\n",
    "\n",
    "x_train_norm = x_train/255.0   # 입력은 0~1 사이의 값으로 정규화\n",
    "\n",
    "#훈련data 검증data\n",
    "x_train, x_val, y_train, y_val = train_test_split(x_train_norm, y_train, shuffle=True, test_size=0.3)\n",
    "\n",
    "print(\"x_train shape: {}\".format(x_train.shape))\n",
    "print(\"x_val shape: {}\".format(x_val.shape))\n",
    "print(\"y_train shape: {}\".format(y_train.shape))\n",
    "print(\"y_val shape: {}\".format(y_val.shape))"
   ]
  },
  {
   "cell_type": "markdown",
   "id": "f5a481f2",
   "metadata": {},
   "source": [
    "한번 이미지를 불러 볼까요?"
   ]
  },
  {
   "cell_type": "code",
   "execution_count": 10,
   "id": "e49c7021",
   "metadata": {},
   "outputs": [
    {
     "name": "stdout",
     "output_type": "stream",
     "text": [
      "라벨:  0\n"
     ]
    },
    {
     "data": {
      "image/png": "[encoded data removed]",
      "text/plain": [
       "<Figure size 432x288 with 1 Axes>"
      ]
     },
     "metadata": {
      "needs_background": "light"
     },
     "output_type": "display_data"
    }
   ],
   "source": [
    "# train\n",
    "plt.imshow(x_train[0])\n",
    "print('라벨: ', y_train[0])"
   ]
  },
  {
   "cell_type": "code",
   "execution_count": 11,
   "id": "91a6e38b",
   "metadata": {},
   "outputs": [
    {
     "name": "stdout",
     "output_type": "stream",
     "text": [
      "라벨:  1\n"
     ]
    },
    {
     "data": {
      "image/png": "[encoded data removed]",
      "text/plain": [
       "<Figure size 432x288 with 1 Axes>"
      ]
     },
     "metadata": {
      "needs_background": "light"
     },
     "output_type": "display_data"
    }
   ],
   "source": [
    "# val\n",
    "plt.imshow(x_val[0])\n",
    "print('라벨: ', y_val[0])"
   ]
  },
  {
   "cell_type": "markdown",
   "id": "a716892c",
   "metadata": {},
   "source": [
    "<br>"
   ]
  },
  {
   "cell_type": "markdown",
   "id": "418f2dae",
   "metadata": {},
   "source": [
    "### 딥러닝 네트워크 설계하기\n",
    "\n",
    "자 이제 데이터의 준비가 끝났습니다. 이제 여러분들이 가위바위보를 인식하는 딥러닝 네트워크를 설계해 볼까요?"
   ]
  },
  {
   "cell_type": "code",
   "execution_count": 12,
   "id": "c63123e5",
   "metadata": {},
   "outputs": [
    {
     "name": "stdout",
     "output_type": "stream",
     "text": [
      "Model에 추가된 Layer 개수:  8\n",
      "Model: \"sequential\"\n",
      "_________________________________________________________________\n",
      "Layer (type)                 Output Shape              Param #   \n",
      "=================================================================\n",
      "conv2d (Conv2D)              (None, 128, 128, 32)      896       \n",
      "_________________________________________________________________\n",
      "max_pooling2d (MaxPooling2D) (None, 64, 64, 32)        0         \n",
      "_________________________________________________________________\n",
      "conv2d_1 (Conv2D)            (None, 64, 64, 64)        18496     \n",
      "_________________________________________________________________\n",
      "max_pooling2d_1 (MaxPooling2 (None, 32, 32, 64)        0         \n",
      "_________________________________________________________________\n",
      "flatten (Flatten)            (None, 65536)             0         \n",
      "_________________________________________________________________\n",
      "dense (Dense)                (None, 100)               6553700   \n",
      "_________________________________________________________________\n",
      "dropout (Dropout)            (None, 100)               0         \n",
      "_________________________________________________________________\n",
      "dense_1 (Dense)              (None, 3)                 303       \n",
      "=================================================================\n",
      "Total params: 6,573,395\n",
      "Trainable params: 6,573,395\n",
      "Non-trainable params: 0\n",
      "_________________________________________________________________\n"
     ]
    }
   ],
   "source": [
    "import tensorflow as tf\n",
    "from tensorflow import keras\n",
    "import numpy as np\n",
    "\n",
    "model=keras.models.Sequential()\n",
    "model.add(keras.layers.Conv2D(32, kernel_size=3, padding='same', activation='relu', input_shape=(128,128,3)))\n",
    "model.add(keras.layers.MaxPooling2D(2))\n",
    "model.add(keras.layers.Conv2D(64, kernel_size=3, padding='same', activation='relu'))\n",
    "model.add(keras.layers.MaxPooling2D(2))\n",
    "model.add(keras.layers.Flatten())\n",
    "model.add(keras.layers.Dense(100, activation='relu'))\n",
    "model.add(keras.layers.Dropout(0.4))\n",
    "model.add(keras.layers.Dense(3, activation='softmax'))\n",
    "\n",
    "print('Model에 추가된 Layer 개수: ', len(model.layers))\n",
    "\n",
    "model.summary()"
   ]
  },
  {
   "cell_type": "markdown",
   "id": "f3f821bf",
   "metadata": {},
   "source": [
    "### 딥러닝 네트워크 학습시키기\n",
    "\n",
    "잘 설계가 되었다면, 이제 학습을 시켜봅시다. 아마도 여러분들의 데이터는 거의 비슷비슷할 것이기 때문에 accuracy가 꽤 높게 나올 것입니다.\n",
    "\n",
    "* 콜백은 모델을 훈련하는 도중에 어떤 작업을 수행할 수 있도록 도와주는 도구로 최상의 모델을 자동으로 저장 및 조기종료를 사용할 수 있다.\n",
    "* ModelCheckpoint는 모델과 가중치를 일정 간격으로 저장하며, save_brst_only를 지정해 가장 낮은 검증 점수를 만드는 모델을 저장한다.\n",
    "* 조기종료란 과대적합이 시작되기 전에 훈련을 미리 중지하는 기법\n",
    "* EarlyStopping을 만들어 조기종료기법 수행\n",
    "* patience는 매개변수에 모델이 더 이상 향상되지 않고 지속할 수 있는 최대 에포크 횟수를 지정\n",
    "* restore_best_weights는 매개변수에 최상의 모델 가중치를 복원할지 지정\n",
    "* history 객체에 훈련과정에서 계산한 지표, 즉 손실과 정확도 값이 저장되어 있음 또한 추가 가능"
   ]
  },
  {
   "cell_type": "code",
   "execution_count": 13,
   "id": "6651225f",
   "metadata": {},
   "outputs": [
    {
     "name": "stdout",
     "output_type": "stream",
     "text": [
      "Epoch 1/10\n",
      "56/56 [==============================] - 5s 29ms/step - loss: 1.1862 - accuracy: 0.5578 - val_loss: 0.3734 - val_accuracy: 0.9299\n",
      "Epoch 2/10\n",
      "56/56 [==============================] - 1s 16ms/step - loss: 0.2009 - accuracy: 0.9376 - val_loss: 0.0420 - val_accuracy: 0.9921\n",
      "Epoch 3/10\n",
      "56/56 [==============================] - 1s 16ms/step - loss: 0.0504 - accuracy: 0.9875 - val_loss: 0.0119 - val_accuracy: 0.9987\n",
      "Epoch 4/10\n",
      "56/56 [==============================] - 1s 16ms/step - loss: 0.0247 - accuracy: 0.9960 - val_loss: 0.0041 - val_accuracy: 1.0000\n",
      "Epoch 5/10\n",
      "56/56 [==============================] - 1s 16ms/step - loss: 0.0191 - accuracy: 0.9960 - val_loss: 0.0039 - val_accuracy: 0.9987\n",
      "Epoch 6/10\n",
      "56/56 [==============================] - 1s 16ms/step - loss: 0.0109 - accuracy: 0.9977 - val_loss: 0.0021 - val_accuracy: 0.9987\n",
      "Epoch 7/10\n",
      "56/56 [==============================] - 1s 16ms/step - loss: 0.0077 - accuracy: 0.9994 - val_loss: 5.5873e-04 - val_accuracy: 1.0000\n",
      "Epoch 8/10\n",
      "56/56 [==============================] - 1s 17ms/step - loss: 0.0123 - accuracy: 0.9960 - val_loss: 4.2848e-04 - val_accuracy: 1.0000\n",
      "Epoch 9/10\n",
      "56/56 [==============================] - 1s 16ms/step - loss: 0.0090 - accuracy: 0.9972 - val_loss: 0.0014 - val_accuracy: 1.0000\n",
      "Epoch 10/10\n",
      "56/56 [==============================] - 1s 16ms/step - loss: 0.0026 - accuracy: 1.0000 - val_loss: 2.8433e-04 - val_accuracy: 1.0000\n"
     ]
    }
   ],
   "source": [
    "model.compile(optimizer='adam', loss='sparse_categorical_crossentropy', metrics='accuracy')\n",
    "\n",
    "checkpoint_cb = keras.callbacks.ModelCheckpoint('best-model.h5', save_best_only=True)\n",
    "\n",
    "early_stopping_cb = keras.callbacks.EarlyStopping(patience=2, restore_best_weights=True)\n",
    "\n",
    "history = model.fit(x_train, y_train, epochs=10,\n",
    "                    validation_data=(x_val, y_val),\n",
    "                    callbacks=[checkpoint_cb, early_stopping_cb])"
   ]
  },
  {
   "cell_type": "markdown",
   "id": "ea537f28",
   "metadata": {},
   "source": [
    "<br>"
   ]
  },
  {
   "cell_type": "markdown",
   "id": "feef88c5",
   "metadata": {},
   "source": [
    "### 얼마나 잘 만들었는지 확인하기(테스트)"
   ]
  },
  {
   "cell_type": "code",
   "execution_count": 14,
   "id": "f7970b4f",
   "metadata": {},
   "outputs": [
    {
     "data": {
      "image/png": "[encoded data removed]",
      "text/plain": [
       "<Figure size 432x288 with 1 Axes>"
      ]
     },
     "metadata": {
      "needs_background": "light"
     },
     "output_type": "display_data"
    }
   ],
   "source": [
    "plt.plot(history.history['loss'])\n",
    "plt.plot(history.history['val_loss'])\n",
    "plt.xlabel('epoch')\n",
    "plt.ylabel('loss')\n",
    "plt.legend(['train', 'val'])\n",
    "plt.show()"
   ]
  },
  {
   "cell_type": "code",
   "execution_count": 15,
   "id": "9bbe0480",
   "metadata": {},
   "outputs": [
    {
     "name": "stdout",
     "output_type": "stream",
     "text": [
      "학습데이터(x_train)의 이미지 개수는 372 입니다.\n",
      "x_train shape: (372, 128, 128, 3)\n",
      "y_train shape: (372,)\n"
     ]
    }
   ],
   "source": [
    "image_dir_path = os.getenv(\"HOME\") + \"/aiffel/Exploration-5/rps-test-set\"\n",
    "(x_test, y_test)=load_data(image_dir_path, number_of_data=372)\n",
    "\n",
    "x_test_norm = x_test/255.0   # 입력은 0~1 사이의 값으로 정규화\n",
    "\n",
    "print(\"x_train shape: {}\".format(x_test_norm.shape))\n",
    "print(\"y_train shape: {}\".format(y_test.shape))"
   ]
  },
  {
   "cell_type": "code",
   "execution_count": 16,
   "id": "9bd0f4fb",
   "metadata": {
    "scrolled": true
   },
   "outputs": [
    {
     "name": "stdout",
     "output_type": "stream",
     "text": [
      "12/12 [==============================] - 0s 6ms/step - loss: 1.8943 - accuracy: 0.7473\n"
     ]
    },
    {
     "data": {
      "text/plain": [
       "[1.8943268060684204, 0.7473118305206299]"
      ]
     },
     "execution_count": 16,
     "metadata": {},
     "output_type": "execute_result"
    }
   ],
   "source": [
    "model.evaluate(x_test_norm, y_test)"
   ]
  },
  {
   "cell_type": "markdown",
   "id": "2e9b6c12",
   "metadata": {},
   "source": [
    "### 노드를 마치며...\n",
    "\n",
    "여러분 미니 프로젝트는 잘 마치셨나요? 여러분은 이번 노드를 통해 다음의 내용을 배웠습니다.\n",
    "\n",
    "- 이미 잘 정제된 10개 클래스의 숫자 손글씨 데이터를 분류하는 classifier 만들기\n",
    "- 정제되지 않은 웹캠 사진으로부터 데이터 만들어보기\n",
    "- 흑백 사진이 아닌 컬러 사진을 학습하는 classifier 만들기\n",
    "- 분류하고자 하는 클래스의 개수를 마음대로 조절하기 (10개에서 3개로)"
   ]
  },
  {
   "cell_type": "code",
   "execution_count": null,
   "id": "6a520dba",
   "metadata": {},
   "outputs": [],
   "source": []
  }
 ],
 "metadata": {
  "kernelspec": {
   "display_name": "Python 3.8.9 64-bit",
   "language": "python",
   "name": "python3"
  },
  "language_info": {
   "codemirror_mode": {
    "name": "ipython",
    "version": 3
   },
   "file_extension": ".py",
   "mimetype": "text/x-python",
   "name": "python",
   "nbconvert_exporter": "python",
   "pygments_lexer": "ipython3",
   "version": "3.8.9"
  },
  "vscode": {
   "interpreter": {
    "hash": "31f2aee4e71d21fbe5cf8b01ff0e069b9275f58929596ceb00d14d90e3e16cd6"
   }
  }
 },
 "nbformat": 4,
 "nbformat_minor": 5
}
